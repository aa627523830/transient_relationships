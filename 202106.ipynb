{
 "cells": [
  {
   "cell_type": "markdown",
   "id": "eccc04a2-ab84-485b-9887-42629f507271",
   "metadata": {},
   "source": [
    "# Imports and Data"
   ]
  },
  {
   "cell_type": "code",
   "execution_count": 1,
   "id": "0248b91b-fb74-4bc7-ad0f-81eba307df79",
   "metadata": {
    "execution": {
     "iopub.execute_input": "2021-06-04T17:20:36.883065Z",
     "iopub.status.busy": "2021-06-04T17:20:36.882631Z",
     "iopub.status.idle": "2021-06-04T17:20:38.713383Z",
     "shell.execute_reply": "2021-06-04T17:20:38.712473Z",
     "shell.execute_reply.started": "2021-06-04T17:20:36.882948Z"
    }
   },
   "outputs": [],
   "source": [
    "import numpy as np\n",
    "import pandas as pd\n",
    "import datetime as dt\n",
    "import matplotlib.pyplot as plt\n",
    "import phonecalls as pc\n",
    "import scipy.stats as stats\n",
    "import scipy.interpolate as interpol\n",
    "import time\n",
    "import copy\n",
    "import os\n",
    "\n",
    "\n",
    "plt.rcParams['figure.figsize'] = (20, 10)\n",
    "markers = ['o', 'v', 's', 'P', '*', 'X', 'd', 'x', 'D', '2', '+']\n",
    "\n",
    "calls = {}\n",
    "pairs = {}\n",
    "lives = {}"
   ]
  },
  {
   "cell_type": "code",
   "execution_count": null,
   "id": "ba9c85a1-4dd5-4b55-aecf-4e774c26ac43",
   "metadata": {},
   "outputs": [],
   "source": []
  }
 ],
 "metadata": {
  "kernelspec": {
   "display_name": "jupyter",
   "language": "python",
   "name": "jupyter"
  },
  "language_info": {
   "codemirror_mode": {
    "name": "ipython",
    "version": 3
   },
   "file_extension": ".py",
   "mimetype": "text/x-python",
   "name": "python",
   "nbconvert_exporter": "python",
   "pygments_lexer": "ipython3",
   "version": "3.9.5"
  }
 },
 "nbformat": 4,
 "nbformat_minor": 5
}
