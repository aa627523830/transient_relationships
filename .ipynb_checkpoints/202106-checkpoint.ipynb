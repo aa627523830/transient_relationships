{
 "cells": [
  {
   "cell_type": "markdown",
   "id": "forty-validity",
   "metadata": {},
   "source": [
    "# Imports and Data"
   ]
  },
  {
   "cell_type": "code",
   "execution_count": 8,
   "id": "alleged-routine",
   "metadata": {
    "execution": {
     "iopub.execute_input": "2021-06-05T03:03:53.824225Z",
     "iopub.status.busy": "2021-06-05T03:03:53.824093Z",
     "iopub.status.idle": "2021-06-05T03:03:53.827204Z",
     "shell.execute_reply": "2021-06-05T03:03:53.826731Z",
     "shell.execute_reply.started": "2021-06-05T03:03:53.824212Z"
    },
    "tags": []
   },
   "outputs": [],
   "source": [
    "import numpy as np\n",
    "import pandas as pd\n",
    "import datetime as dt\n",
    "import matplotlib.pyplot as plt\n",
    "import phonecalls as pc\n",
    "import scipy.stats as stats\n",
    "import scipy.interpolate as interpol\n",
    "import time\n",
    "import copy\n",
    "import os\n",
    "\n",
    "\n",
    "plt.rcParams['figure.figsize'] = (20, 10)\n",
    "markers = ['o', 'v', 's', 'P', '*', 'X', 'd', 'x', 'D', '2', '+']\n",
    "\n",
    "callsog = {}\n",
    "pairsog = {}\n",
    "livesog = {}"
   ]
  },
  {
   "cell_type": "code",
   "execution_count": 9,
   "id": "moral-execution",
   "metadata": {
    "execution": {
     "iopub.execute_input": "2021-06-05T03:03:56.471648Z",
     "iopub.status.busy": "2021-06-05T03:03:56.471525Z",
     "iopub.status.idle": "2021-06-05T03:03:56.918913Z",
     "shell.execute_reply": "2021-06-05T03:03:56.918465Z",
     "shell.execute_reply.started": "2021-06-05T03:03:56.471634Z"
    },
    "tags": []
   },
   "outputs": [
    {
     "name": "stdout",
     "output_type": "stream",
     "text": [
      "CPU times: user 431 ms, sys: 11.4 ms, total: 442 ms\n",
      "Wall time: 441 ms\n"
     ]
    },
    {
     "data": {
      "text/html": [
       "<div>\n",
       "<style scoped>\n",
       "    .dataframe tbody tr th:only-of-type {\n",
       "        vertical-align: middle;\n",
       "    }\n",
       "\n",
       "    .dataframe tbody tr th {\n",
       "        vertical-align: top;\n",
       "    }\n",
       "\n",
       "    .dataframe thead th {\n",
       "        text-align: right;\n",
       "    }\n",
       "</style>\n",
       "<table border=\"1\" class=\"dataframe\">\n",
       "  <thead>\n",
       "    <tr style=\"text-align: right;\">\n",
       "      <th></th>\n",
       "      <th>ego</th>\n",
       "      <th>alter</th>\n",
       "      <th>time</th>\n",
       "      <th>uclock</th>\n",
       "      <th>aclock</th>\n",
       "    </tr>\n",
       "  </thead>\n",
       "  <tbody>\n",
       "    <tr>\n",
       "      <th>0</th>\n",
       "      <td>fa10-01-19</td>\n",
       "      <td>10153fa58c24d1a2eb54b3c6ac39482acb61131c</td>\n",
       "      <td>2010-12-31 16:44:24</td>\n",
       "      <td>307</td>\n",
       "      <td>0</td>\n",
       "    </tr>\n",
       "    <tr>\n",
       "      <th>1</th>\n",
       "      <td>fa10-01-22</td>\n",
       "      <td>101b96d65031e2792acd950125d90cf9ff30b5ac</td>\n",
       "      <td>2011-05-23 20:59:05</td>\n",
       "      <td>450</td>\n",
       "      <td>0</td>\n",
       "    </tr>\n",
       "    <tr>\n",
       "      <th>2</th>\n",
       "      <td>fa10-01-12</td>\n",
       "      <td>1023b616632f3ba048b2f1d1374788bfa0444a8d</td>\n",
       "      <td>2011-01-22 14:01:07</td>\n",
       "      <td>328</td>\n",
       "      <td>0</td>\n",
       "    </tr>\n",
       "    <tr>\n",
       "      <th>3</th>\n",
       "      <td>fa10-01-01</td>\n",
       "      <td>102c517fc9ecf84975448470893c3799f5588c8a</td>\n",
       "      <td>2011-05-27 17:52:56</td>\n",
       "      <td>454</td>\n",
       "      <td>0</td>\n",
       "    </tr>\n",
       "    <tr>\n",
       "      <th>4</th>\n",
       "      <td>fa10-01-07</td>\n",
       "      <td>102cd812edb5689302bcc57df8330cff44727bd1</td>\n",
       "      <td>2011-04-04 10:02:50</td>\n",
       "      <td>400</td>\n",
       "      <td>0</td>\n",
       "    </tr>\n",
       "  </tbody>\n",
       "</table>\n",
       "</div>"
      ],
      "text/plain": [
       "          ego                                     alter                time  \\\n",
       "0  fa10-01-19  10153fa58c24d1a2eb54b3c6ac39482acb61131c 2010-12-31 16:44:24   \n",
       "1  fa10-01-22  101b96d65031e2792acd950125d90cf9ff30b5ac 2011-05-23 20:59:05   \n",
       "2  fa10-01-12  1023b616632f3ba048b2f1d1374788bfa0444a8d 2011-01-22 14:01:07   \n",
       "3  fa10-01-01  102c517fc9ecf84975448470893c3799f5588c8a 2011-05-27 17:52:56   \n",
       "4  fa10-01-07  102cd812edb5689302bcc57df8330cff44727bd1 2011-04-04 10:02:50   \n",
       "\n",
       "   uclock  aclock  \n",
       "0     307       0  \n",
       "1     450       0  \n",
       "2     328       0  \n",
       "3     454       0  \n",
       "4     400       0  "
      ]
     },
     "execution_count": 9,
     "metadata": {},
     "output_type": "execute_result"
    }
   ],
   "source": [
    "%time callsog['mit'] = pc.allcalls('CallLog.csv', (), 'participantID.A', 'number.hash', ['local_time'], \"%Y-%m-%d %H:%M:%S\", header=True, min_activity=1)\n",
    "callsog['mit'].head()"
   ]
  },
  {
   "cell_type": "code",
   "execution_count": 10,
   "id": "victorian-patrick",
   "metadata": {
    "execution": {
     "iopub.execute_input": "2021-06-05T03:04:08.187790Z",
     "iopub.status.busy": "2021-06-05T03:04:08.187524Z",
     "iopub.status.idle": "2021-06-05T03:04:08.370729Z",
     "shell.execute_reply": "2021-06-05T03:04:08.370354Z",
     "shell.execute_reply.started": "2021-06-05T03:04:08.187759Z"
    },
    "tags": []
   },
   "outputs": [
    {
     "name": "stdout",
     "output_type": "stream",
     "text": [
      "CPU times: user 34.7 ms, sys: 0 ns, total: 34.7 ms\n",
      "Wall time: 33.4 ms\n",
      "CPU times: user 146 ms, sys: 0 ns, total: 146 ms\n",
      "Wall time: 146 ms\n"
     ]
    }
   ],
   "source": [
    "%time pairsog['mit'] = pc.pairs(calls['mit'])\n",
    "%time livesog['mit'] = pc.lives_dictionary(calls['mit'])"
   ]
  },
  {
   "cell_type": "code",
   "execution_count": 11,
   "id": "limited-washer",
   "metadata": {
    "execution": {
     "iopub.execute_input": "2021-06-05T03:04:13.632904Z",
     "iopub.status.busy": "2021-06-05T03:04:13.632750Z",
     "iopub.status.idle": "2021-06-05T03:04:14.234919Z",
     "shell.execute_reply": "2021-06-05T03:04:14.234560Z",
     "shell.execute_reply.started": "2021-06-05T03:04:13.632877Z"
    },
    "tags": []
   },
   "outputs": [
    {
     "data": {
      "text/html": [
       "<div>\n",
       "<style scoped>\n",
       "    .dataframe tbody tr th:only-of-type {\n",
       "        vertical-align: middle;\n",
       "    }\n",
       "\n",
       "    .dataframe tbody tr th {\n",
       "        vertical-align: top;\n",
       "    }\n",
       "\n",
       "    .dataframe thead th {\n",
       "        text-align: right;\n",
       "    }\n",
       "</style>\n",
       "<table border=\"1\" class=\"dataframe\">\n",
       "  <thead>\n",
       "    <tr style=\"text-align: right;\">\n",
       "      <th></th>\n",
       "      <th>ego</th>\n",
       "      <th>alter</th>\n",
       "      <th>time</th>\n",
       "      <th>uclock</th>\n",
       "      <th>aclock</th>\n",
       "    </tr>\n",
       "  </thead>\n",
       "  <tbody>\n",
       "    <tr>\n",
       "      <th>0</th>\n",
       "      <td>C07814508939</td>\n",
       "      <td>C0020165636994</td>\n",
       "      <td>2008-02-07 16:18:00</td>\n",
       "      <td>339</td>\n",
       "      <td>0</td>\n",
       "    </tr>\n",
       "    <tr>\n",
       "      <th>1</th>\n",
       "      <td>C07814508939</td>\n",
       "      <td>C0020165636994</td>\n",
       "      <td>2008-02-07 17:11:00</td>\n",
       "      <td>339</td>\n",
       "      <td>0</td>\n",
       "    </tr>\n",
       "    <tr>\n",
       "      <th>2</th>\n",
       "      <td>C07814508939</td>\n",
       "      <td>C0020165636994</td>\n",
       "      <td>2008-02-20 15:39:00</td>\n",
       "      <td>352</td>\n",
       "      <td>13</td>\n",
       "    </tr>\n",
       "    <tr>\n",
       "      <th>3</th>\n",
       "      <td>C07792658311</td>\n",
       "      <td>C0021213487966</td>\n",
       "      <td>2008-02-27 17:01:00</td>\n",
       "      <td>359</td>\n",
       "      <td>0</td>\n",
       "    </tr>\n",
       "    <tr>\n",
       "      <th>4</th>\n",
       "      <td>C07792658311</td>\n",
       "      <td>C0021213487966</td>\n",
       "      <td>2008-02-27 17:55:00</td>\n",
       "      <td>359</td>\n",
       "      <td>0</td>\n",
       "    </tr>\n",
       "  </tbody>\n",
       "</table>\n",
       "</div>"
      ],
      "text/plain": [
       "            ego           alter                time  uclock  aclock\n",
       "0  C07814508939  C0020165636994 2008-02-07 16:18:00     339       0\n",
       "1  C07814508939  C0020165636994 2008-02-07 17:11:00     339       0\n",
       "2  C07814508939  C0020165636994 2008-02-20 15:39:00     352      13\n",
       "3  C07792658311  C0021213487966 2008-02-27 17:01:00     359       0\n",
       "4  C07792658311  C0021213487966 2008-02-27 17:55:00     359       0"
      ]
     },
     "execution_count": 11,
     "metadata": {},
     "output_type": "execute_result"
    }
   ],
   "source": [
    "tmp1 = pc.allcalls(\"../ukdata/collected_dunbar_calls_v3_e26OK_sorted.csv\", (3, 'call'), 1, 2, [6,7], '%d/%m/%y %H:%M', header=False, min_activity=1)\n",
    "tmp1.head()"
   ]
  },
  {
   "cell_type": "code",
   "execution_count": 12,
   "id": "wooden-panama",
   "metadata": {
    "execution": {
     "iopub.execute_input": "2021-06-05T03:04:42.442644Z",
     "iopub.status.busy": "2021-06-05T03:04:42.442505Z",
     "iopub.status.idle": "2021-06-05T03:04:43.806111Z",
     "shell.execute_reply": "2021-06-05T03:04:43.805749Z",
     "shell.execute_reply.started": "2021-06-05T03:04:42.442630Z"
    },
    "tags": []
   },
   "outputs": [
    {
     "name": "stderr",
     "output_type": "stream",
     "text": [
      "/home/vsvh/.local/lib/python3.9/site-packages/pandas/core/frame.py:4305: SettingWithCopyWarning: \n",
      "A value is trying to be set on a copy of a slice from a DataFrame\n",
      "\n",
      "See the caveats in the documentation: https://pandas.pydata.org/pandas-docs/stable/user_guide/indexing.html#returning-a-view-versus-a-copy\n",
      "  return super().drop(\n"
     ]
    },
    {
     "data": {
      "text/plain": [
       "0"
      ]
     },
     "execution_count": 12,
     "metadata": {},
     "output_type": "execute_result"
    }
   ],
   "source": [
    "# Temporary data, since I will create two cohorts out of these\n",
    "tmp2 = pc.pairs(tmp1)\n",
    "tmp3 = pc.lives_dictionary(tmp1)\n",
    "\n",
    "rmalter = {}\n",
    "for ego in tmp3.keys():\n",
    "    rmalter[ego] = []\n",
    "    for alter in tmp3[ego].keys():\n",
    "        if tmp3[ego][alter]['t0'] < 180:\n",
    "            rmalter[ego].append(alter)\n",
    "            \n",
    "for i in tmp1.index:\n",
    "    ego = tmp1.at[i, 'ego']\n",
    "    alter = tmp1.at[i, 'alter']\n",
    "    if alter in rmalter[ego]:\n",
    "        tmp1.at[i, 'rm'] = 1\n",
    "    else:\n",
    "        tmp1.at[i, 'rm'] = 0\n",
    "\n",
    "callsog['uk1'] = tmp1.loc[tmp1['rm'] == 1]\n",
    "callsog['uk1'].drop(columns=['rm'], inplace=True)\n",
    "callsog['uk1'].reset_index(drop=True, inplace=True)\n",
    "\n",
    "new = tmp1.loc[tmp1['rm'] == 0]\n",
    "new = new.loc[new['uclock'] >= 180]\n",
    "new['uclock'] -= 180\n",
    "new.to_csv(\"tmp2.csv\")\n",
    "callsog['uk2'] = pc.allcalls(\"tmp2.csv\", (), 'ego', 'alter', ['time'], '%Y-%m-%d %H:%M:%S')\n",
    "callsog['uk2'].reset_index(drop=True, inplace=True)\n",
    "os.system(\"rm tmp2.csv\")"
   ]
  },
  {
   "cell_type": "code",
   "execution_count": 13,
   "id": "residential-lloyd",
   "metadata": {
    "execution": {
     "iopub.execute_input": "2021-06-05T03:05:01.729203Z",
     "iopub.status.busy": "2021-06-05T03:05:01.728897Z",
     "iopub.status.idle": "2021-06-05T03:05:01.859357Z",
     "shell.execute_reply": "2021-06-05T03:05:01.858997Z",
     "shell.execute_reply.started": "2021-06-05T03:05:01.729167Z"
    },
    "tags": []
   },
   "outputs": [],
   "source": [
    "for c in ['uk1', 'uk2']:\n",
    "    pairsog[c] = pc.pairs(callsog[c])\n",
    "    livesog[c] = pc.lives_dictionary(callsog[c])"
   ]
  },
  {
   "cell_type": "markdown",
   "id": "baking-skiing",
   "metadata": {},
   "source": [
    "## Limit data\n",
    "\n",
    "In order to make all pairs of ego-alters (in all three cohorts comparable, I will limit the amount of phone calls to be analized, using the following criteria:\n",
    "\n",
    "1. Only consider phone calls made by egos 30 days or later than their first appeareance.\n",
    "2. For each alter, its maximum value of $a$ will be 200 days. This makes $\\max_{\\ell} = 200$.\n",
    "3. Remove all alters whose first appeareance was **after** $T - \\max{a}$. This is to guarantee that every alter could potentially reach $\\max{a}$."
   ]
  },
  {
   "cell_type": "markdown",
   "id": "precise-click",
   "metadata": {},
   "source": [
    "### Remove first 30 days of activity for each ego"
   ]
  },
  {
   "cell_type": "code",
   "execution_count": 14,
   "id": "equal-peoples",
   "metadata": {
    "execution": {
     "iopub.execute_input": "2021-06-05T03:29:03.396056Z",
     "iopub.status.busy": "2021-06-05T03:29:03.395894Z",
     "iopub.status.idle": "2021-06-05T03:29:04.711522Z",
     "shell.execute_reply": "2021-06-05T03:29:04.711079Z",
     "shell.execute_reply.started": "2021-06-05T03:29:03.396029Z"
    },
    "tags": []
   },
   "outputs": [
    {
     "name": "stdout",
     "output_type": "stream",
     "text": [
      "mit lost 19098 calls\n",
      "uk1 lost 5733 calls\n",
      "uk2 lost 1684 calls\n"
     ]
    }
   ],
   "source": [
    "calls = {}\n",
    "for c in callsog.keys():\n",
    "    uno = callsog[c].groupby('ego')[['uclock']].min()\n",
    "    dos = pd.DataFrame()\n",
    "    for ego in callsog[c]['ego'].unique():\n",
    "        df = callsog[c].loc[callsog[c]['ego'] == ego]\n",
    "        minday = uno.loc[ego]['uclock'] + 30\n",
    "        df1 = df.loc[df['uclock'] >= minday]\n",
    "        dos = dos.append(df1).reset_index(drop=True)\n",
    "    old = len(callsog[c])\n",
    "    calls[c] = dos\n",
    "    print(f'{c} lost {old - len(calls[c])} calls')"
   ]
  },
  {
   "cell_type": "markdown",
   "id": "variable-realtor",
   "metadata": {},
   "source": [
    "### Make $a_{\\max} = 200$"
   ]
  },
  {
   "cell_type": "code",
   "execution_count": 15,
   "id": "southwest-entrance",
   "metadata": {
    "execution": {
     "iopub.execute_input": "2021-06-05T03:29:50.147904Z",
     "iopub.status.busy": "2021-06-05T03:29:50.147754Z",
     "iopub.status.idle": "2021-06-05T03:29:50.157522Z",
     "shell.execute_reply": "2021-06-05T03:29:50.157097Z",
     "shell.execute_reply.started": "2021-06-05T03:29:50.147877Z"
    }
   },
   "outputs": [
    {
     "name": "stdout",
     "output_type": "stream",
     "text": [
      "mit lost 24426 calls\n",
      "uk1 lost 37748 calls\n",
      "uk2 lost 3229 calls\n"
     ]
    }
   ],
   "source": [
    "for c in calls.keys():\n",
    "    old = len(calls[c])\n",
    "    calls[c] = calls[c].loc[calls[c]['aclock'] <= 200]\n",
    "    print(f'{c} lost {old - len(calls[c])} calls')"
   ]
  },
  {
   "cell_type": "markdown",
   "id": "studied-partition",
   "metadata": {},
   "source": [
    "### Remove all alters with $t(0) > T - a_{\\max}$"
   ]
  },
  {
   "cell_type": "code",
   "execution_count": 16,
   "id": "thermal-lounge",
   "metadata": {
    "execution": {
     "iopub.execute_input": "2021-06-05T03:30:57.975969Z",
     "iopub.status.busy": "2021-06-05T03:30:57.975816Z",
     "iopub.status.idle": "2021-06-05T03:31:17.241357Z",
     "shell.execute_reply": "2021-06-05T03:31:17.240917Z",
     "shell.execute_reply.started": "2021-06-05T03:30:57.975942Z"
    },
    "tags": []
   },
   "outputs": [
    {
     "name": "stderr",
     "output_type": "stream",
     "text": [
      "/home/vsvh/.local/lib/python3.9/site-packages/pandas/core/indexing.py:1676: SettingWithCopyWarning: \n",
      "A value is trying to be set on a copy of a slice from a DataFrame.\n",
      "Try using .loc[row_indexer,col_indexer] = value instead\n",
      "\n",
      "See the caveats in the documentation: https://pandas.pydata.org/pandas-docs/stable/user_guide/indexing.html#returning-a-view-versus-a-copy\n",
      "  self._setitem_single_column(ilocs[0], value, pi)\n"
     ]
    },
    {
     "name": "stdout",
     "output_type": "stream",
     "text": [
      "mit lost 7649 pairs of ego-alter\n",
      "uk1 lost 38 pairs of ego-alter\n",
      "uk2 lost 1905 pairs of ego-alter\n"
     ]
    }
   ],
   "source": [
    "for c in calls.keys():\n",
    "    uno = pd.DataFrame()\n",
    "    T = max(calls[c]['uclock'])\n",
    "    for ego in calls[c]['ego'].unique():\n",
    "        df = calls[c].loc[calls[c]['ego'] == ego]\n",
    "        for alter in df['alter'].unique():\n",
    "            df2 = df.loc[df['alter'] == alter]\n",
    "            mint = min(df2['uclock'])\n",
    "            if mint < (T - 200):\n",
    "                df2.loc[:, 'aclock'] = df2['uclock'] - mint\n",
    "                uno = uno.append(df2).reset_index(drop=True)\n",
    "    old = len(calls[c].groupby(['ego', 'alter'])[['aclock']].count())\n",
    "    calls[c] = uno\n",
    "    new = len(calls[c].groupby(['ego', 'alter'])[['aclock']].count())\n",
    "    print(f'{c} lost {old - new} pairs of ego-alter')"
   ]
  },
  {
   "cell_type": "code",
   "execution_count": 18,
   "id": "worldwide-dispute",
   "metadata": {
    "execution": {
     "iopub.execute_input": "2021-06-05T03:41:24.250189Z",
     "iopub.status.busy": "2021-06-05T03:41:24.249999Z",
     "iopub.status.idle": "2021-06-05T03:41:24.451779Z",
     "shell.execute_reply": "2021-06-05T03:41:24.451430Z",
     "shell.execute_reply.started": "2021-06-05T03:41:24.250162Z"
    },
    "tags": []
   },
   "outputs": [],
   "source": [
    "pairs = {}\n",
    "lives = {}\n",
    "for c in calls.keys():\n",
    "    pairs[c] = pc.pairs(calls[c])\n",
    "    lives[c] = pc.lives_dictionary(calls[c])"
   ]
  },
  {
   "cell_type": "code",
   "execution_count": 19,
   "id": "charming-people",
   "metadata": {
    "execution": {
     "iopub.execute_input": "2021-06-05T03:41:29.423427Z",
     "iopub.status.busy": "2021-06-05T03:41:29.423302Z",
     "iopub.status.idle": "2021-06-05T03:41:29.428768Z",
     "shell.execute_reply": "2021-06-05T03:41:29.428362Z",
     "shell.execute_reply.started": "2021-06-05T03:41:29.423414Z"
    },
    "tags": []
   },
   "outputs": [
    {
     "name": "stdout",
     "output_type": "stream",
     "text": [
      "mit has max ell 200\n",
      "uk1 has max ell 200\n",
      "uk2 has max ell 200\n"
     ]
    }
   ],
   "source": [
    "maxell = 0\n",
    "for c in lives.keys():\n",
    "    for ego in lives[c].keys():\n",
    "        for alter in lives[c][ego].keys():\n",
    "            ell = lives[c][ego][alter]['ell']\n",
    "            if ell > maxell:\n",
    "                maxell = ell\n",
    "    print(f'{c} has max ell {maxell}')"
   ]
  },
  {
   "cell_type": "code",
   "execution_count": null,
   "id": "civilian-operations",
   "metadata": {},
   "outputs": [],
   "source": []
  }
 ],
 "metadata": {
  "kernelspec": {
   "display_name": "Python 3",
   "language": "python",
   "name": "python3"
  },
  "language_info": {
   "codemirror_mode": {
    "name": "ipython",
    "version": 3
   },
   "file_extension": ".py",
   "mimetype": "text/x-python",
   "name": "python",
   "nbconvert_exporter": "python",
   "pygments_lexer": "ipython3",
   "version": "3.9.5"
  }
 },
 "nbformat": 4,
 "nbformat_minor": 5
}
