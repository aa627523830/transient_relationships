{
 "cells": [
  {
   "cell_type": "markdown",
   "id": "controversial-water",
   "metadata": {},
   "source": [
    "# Imports and Data"
   ]
  },
  {
   "cell_type": "code",
   "execution_count": 1,
   "id": "temporal-communication",
   "metadata": {
    "execution": {
     "iopub.execute_input": "2021-08-03T01:43:23.038482Z",
     "iopub.status.busy": "2021-08-03T01:43:23.038102Z",
     "iopub.status.idle": "2021-08-03T01:43:23.607462Z",
     "shell.execute_reply": "2021-08-03T01:43:23.607065Z",
     "shell.execute_reply.started": "2021-08-03T01:43:23.038386Z"
    }
   },
   "outputs": [],
   "source": [
    "import numpy as np\n",
    "import pandas as pd\n",
    "import datetime as dt\n",
    "import os\n",
    "import matplotlib.pyplot as plt\n",
    "import phonecalls as pc\n",
    "import scipy.stats as stats\n",
    "import scipy.interpolate as interpol\n",
    "import time\n",
    "import copy\n",
    "import math\n",
    "import pickle\n",
    "\n",
    "\n",
    "plt.rcParams['figure.figsize'] = (20, 10)\n",
    "markers = ['o', 'v', 's', 'P', '*', 'X', 'd', 'x', 'D', '2', '+']\n",
    "colors = ['#348ABD', '#A60628', '#7A68A6', '#467821', '#D55E00', '#CC79A7', '#56B4E9', '#009E73', '#F0E442', '#0072B2']\n",
    "\n",
    "with open('unfiltered.pkl', 'rb') as handle:\n",
    "    unfiltered = pickle.load(handle)\n",
    "handle.close()\n",
    "\n",
    "with open('filtered.pkl', 'rb') as handle:\n",
    "    filtered = pickle.load(handle)\n",
    "handle.close()\n",
    "\n",
    "with open('filterednc.pkl', 'rb') as handle:\n",
    "    filterednc = pickle.load(handle)\n",
    "handle.close()\n",
    "\n",
    "globalt0 = dt.datetime.now()"
   ]
  },
  {
   "cell_type": "markdown",
   "id": "comparative-pilot",
   "metadata": {},
   "source": [
    "# Explore CV of interevent times\n",
    "\n",
    "The idea is to pick a few alters that receive a high number of phone calls and check if the distribution for their intervent times show a particular distribution. The main goal is to use those distributions as a way to give a certainty that a relationship observed at the beginning of the data is actually a **new** relationship and not just a continuing one being observed due to the beginning of data. Same goes for the (observed) end of a relationship.\n",
    "\n",
    "However, before doing this I need to get the pairs of ego alter and sort them by activity (total number of phone calls). As the first try, I'll use the filtered data including the cores"
   ]
  },
  {
   "cell_type": "code",
   "execution_count": 4,
   "id": "collect-speech",
   "metadata": {
    "execution": {
     "iopub.execute_input": "2021-08-03T04:25:05.053804Z",
     "iopub.status.busy": "2021-08-03T04:25:05.053655Z",
     "iopub.status.idle": "2021-08-03T04:25:05.155718Z",
     "shell.execute_reply": "2021-08-03T04:25:05.155364Z",
     "shell.execute_reply.started": "2021-08-03T04:25:05.053791Z"
    },
    "tags": []
   },
   "outputs": [],
   "source": [
    "filt_pairs = {}\n",
    "for c in filtered.keys():\n",
    "    filt_pairs[c] = pc.pairs(filtered[c])\n",
    "    filt_pairs[c].sort_values(by='nij', ascending=False, inplace=True)"
   ]
  },
  {
   "cell_type": "code",
   "execution_count": 5,
   "id": "helpful-karen",
   "metadata": {
    "execution": {
     "iopub.execute_input": "2021-08-03T04:25:08.502047Z",
     "iopub.status.busy": "2021-08-03T04:25:08.501889Z",
     "iopub.status.idle": "2021-08-03T04:25:08.511118Z",
     "shell.execute_reply": "2021-08-03T04:25:08.510490Z",
     "shell.execute_reply.started": "2021-08-03T04:25:08.502031Z"
    },
    "tags": []
   },
   "outputs": [
    {
     "data": {
      "text/html": [
       "<div>\n",
       "<style scoped>\n",
       "    .dataframe tbody tr th:only-of-type {\n",
       "        vertical-align: middle;\n",
       "    }\n",
       "\n",
       "    .dataframe tbody tr th {\n",
       "        vertical-align: top;\n",
       "    }\n",
       "\n",
       "    .dataframe thead th {\n",
       "        text-align: right;\n",
       "    }\n",
       "</style>\n",
       "<table border=\"1\" class=\"dataframe\">\n",
       "  <thead>\n",
       "    <tr style=\"text-align: right;\">\n",
       "      <th></th>\n",
       "      <th>ego</th>\n",
       "      <th>alter</th>\n",
       "      <th>nij</th>\n",
       "      <th>k</th>\n",
       "      <th>n</th>\n",
       "    </tr>\n",
       "  </thead>\n",
       "  <tbody>\n",
       "    <tr>\n",
       "      <th>554</th>\n",
       "      <td>C07817280467</td>\n",
       "      <td>C07816637861</td>\n",
       "      <td>1413</td>\n",
       "      <td>134</td>\n",
       "      <td>3873</td>\n",
       "    </tr>\n",
       "    <tr>\n",
       "      <th>150</th>\n",
       "      <td>C07800643466</td>\n",
       "      <td>C07800643415</td>\n",
       "      <td>1203</td>\n",
       "      <td>188</td>\n",
       "      <td>4429</td>\n",
       "    </tr>\n",
       "    <tr>\n",
       "      <th>2664</th>\n",
       "      <td>C07800643415</td>\n",
       "      <td>C07800643466</td>\n",
       "      <td>1062</td>\n",
       "      <td>90</td>\n",
       "      <td>1990</td>\n",
       "    </tr>\n",
       "    <tr>\n",
       "      <th>949</th>\n",
       "      <td>C07814508939</td>\n",
       "      <td>C07950483877</td>\n",
       "      <td>813</td>\n",
       "      <td>136</td>\n",
       "      <td>3261</td>\n",
       "    </tr>\n",
       "    <tr>\n",
       "      <th>579</th>\n",
       "      <td>C07817280467</td>\n",
       "      <td>C07973283191</td>\n",
       "      <td>727</td>\n",
       "      <td>134</td>\n",
       "      <td>3873</td>\n",
       "    </tr>\n",
       "    <tr>\n",
       "      <th>...</th>\n",
       "      <td>...</td>\n",
       "      <td>...</td>\n",
       "      <td>...</td>\n",
       "      <td>...</td>\n",
       "      <td>...</td>\n",
       "    </tr>\n",
       "    <tr>\n",
       "      <th>3171</th>\n",
       "      <td>C07974937643</td>\n",
       "      <td>C7791411352</td>\n",
       "      <td>1</td>\n",
       "      <td>170</td>\n",
       "      <td>1368</td>\n",
       "    </tr>\n",
       "    <tr>\n",
       "      <th>3170</th>\n",
       "      <td>C07974937643</td>\n",
       "      <td>C7742828897</td>\n",
       "      <td>1</td>\n",
       "      <td>170</td>\n",
       "      <td>1368</td>\n",
       "    </tr>\n",
       "    <tr>\n",
       "      <th>3168</th>\n",
       "      <td>C07974937643</td>\n",
       "      <td>C44796959725</td>\n",
       "      <td>1</td>\n",
       "      <td>170</td>\n",
       "      <td>1368</td>\n",
       "    </tr>\n",
       "    <tr>\n",
       "      <th>3167</th>\n",
       "      <td>C07974937643</td>\n",
       "      <td>C44781549083</td>\n",
       "      <td>1</td>\n",
       "      <td>170</td>\n",
       "      <td>1368</td>\n",
       "    </tr>\n",
       "    <tr>\n",
       "      <th>0</th>\n",
       "      <td>C07800643466</td>\n",
       "      <td>C07817808541</td>\n",
       "      <td>1</td>\n",
       "      <td>188</td>\n",
       "      <td>4429</td>\n",
       "    </tr>\n",
       "  </tbody>\n",
       "</table>\n",
       "<p>4624 rows × 5 columns</p>\n",
       "</div>"
      ],
      "text/plain": [
       "               ego         alter   nij    k     n\n",
       "554   C07817280467  C07816637861  1413  134  3873\n",
       "150   C07800643466  C07800643415  1203  188  4429\n",
       "2664  C07800643415  C07800643466  1062   90  1990\n",
       "949   C07814508939  C07950483877   813  136  3261\n",
       "579   C07817280467  C07973283191   727  134  3873\n",
       "...            ...           ...   ...  ...   ...\n",
       "3171  C07974937643   C7791411352     1  170  1368\n",
       "3170  C07974937643   C7742828897     1  170  1368\n",
       "3168  C07974937643  C44796959725     1  170  1368\n",
       "3167  C07974937643  C44781549083     1  170  1368\n",
       "0     C07800643466  C07817808541     1  188  4429\n",
       "\n",
       "[4624 rows x 5 columns]"
      ]
     },
     "execution_count": 5,
     "metadata": {},
     "output_type": "execute_result"
    }
   ],
   "source": [
    "filt_pairs['uk']"
   ]
  },
  {
   "cell_type": "code",
   "execution_count": 6,
   "id": "mature-senegal",
   "metadata": {
    "execution": {
     "iopub.execute_input": "2021-08-03T04:45:02.769412Z",
     "iopub.status.busy": "2021-08-03T04:45:02.769266Z",
     "iopub.status.idle": "2021-08-03T04:45:02.772408Z",
     "shell.execute_reply": "2021-08-03T04:45:02.771977Z",
     "shell.execute_reply.started": "2021-08-03T04:45:02.769396Z"
    }
   },
   "outputs": [],
   "source": [
    "egos = [filt_pairs['uk'].at[i, 'ego'] for i in [554, 150, 2664]]\n",
    "alters = [filt_pairs['uk'].at[i, 'alter'] for i in [554, 150, 2664]]"
   ]
  },
  {
   "cell_type": "code",
   "execution_count": 12,
   "id": "amazing-capability",
   "metadata": {
    "execution": {
     "iopub.execute_input": "2021-08-03T04:49:13.538559Z",
     "iopub.status.busy": "2021-08-03T04:49:13.538382Z",
     "iopub.status.idle": "2021-08-03T04:49:13.554661Z",
     "shell.execute_reply": "2021-08-03T04:49:13.554299Z",
     "shell.execute_reply.started": "2021-08-03T04:49:13.538540Z"
    },
    "tags": []
   },
   "outputs": [
    {
     "data": {
      "text/html": [
       "<div>\n",
       "<style scoped>\n",
       "    .dataframe tbody tr th:only-of-type {\n",
       "        vertical-align: middle;\n",
       "    }\n",
       "\n",
       "    .dataframe tbody tr th {\n",
       "        vertical-align: top;\n",
       "    }\n",
       "\n",
       "    .dataframe thead th {\n",
       "        text-align: right;\n",
       "    }\n",
       "</style>\n",
       "<table border=\"1\" class=\"dataframe\">\n",
       "  <thead>\n",
       "    <tr style=\"text-align: right;\">\n",
       "      <th></th>\n",
       "      <th>ego</th>\n",
       "      <th>alter</th>\n",
       "      <th>time</th>\n",
       "      <th>uclock</th>\n",
       "      <th>aclock</th>\n",
       "      <th>rm</th>\n",
       "    </tr>\n",
       "  </thead>\n",
       "  <tbody>\n",
       "    <tr>\n",
       "      <th>44316</th>\n",
       "      <td>C07817280467</td>\n",
       "      <td>C07816637861</td>\n",
       "      <td>2007-04-04 19:31:00</td>\n",
       "      <td>30</td>\n",
       "      <td>0</td>\n",
       "      <td>1.0</td>\n",
       "    </tr>\n",
       "    <tr>\n",
       "      <th>44317</th>\n",
       "      <td>C07817280467</td>\n",
       "      <td>C07816637861</td>\n",
       "      <td>2007-04-17 14:17:00</td>\n",
       "      <td>43</td>\n",
       "      <td>13</td>\n",
       "      <td>1.0</td>\n",
       "    </tr>\n",
       "    <tr>\n",
       "      <th>44318</th>\n",
       "      <td>C07817280467</td>\n",
       "      <td>C07816637861</td>\n",
       "      <td>2007-04-17 14:17:00</td>\n",
       "      <td>43</td>\n",
       "      <td>13</td>\n",
       "      <td>1.0</td>\n",
       "    </tr>\n",
       "    <tr>\n",
       "      <th>44319</th>\n",
       "      <td>C07817280467</td>\n",
       "      <td>C07816637861</td>\n",
       "      <td>2007-04-17 16:58:00</td>\n",
       "      <td>43</td>\n",
       "      <td>13</td>\n",
       "      <td>1.0</td>\n",
       "    </tr>\n",
       "    <tr>\n",
       "      <th>44320</th>\n",
       "      <td>C07817280467</td>\n",
       "      <td>C07816637861</td>\n",
       "      <td>2007-04-17 17:13:00</td>\n",
       "      <td>43</td>\n",
       "      <td>13</td>\n",
       "      <td>1.0</td>\n",
       "    </tr>\n",
       "    <tr>\n",
       "      <th>...</th>\n",
       "      <td>...</td>\n",
       "      <td>...</td>\n",
       "      <td>...</td>\n",
       "      <td>...</td>\n",
       "      <td>...</td>\n",
       "      <td>...</td>\n",
       "    </tr>\n",
       "    <tr>\n",
       "      <th>45724</th>\n",
       "      <td>C07817280467</td>\n",
       "      <td>C07816637861</td>\n",
       "      <td>2007-09-24 17:57:00</td>\n",
       "      <td>203</td>\n",
       "      <td>173</td>\n",
       "      <td>1.0</td>\n",
       "    </tr>\n",
       "    <tr>\n",
       "      <th>45725</th>\n",
       "      <td>C07817280467</td>\n",
       "      <td>C07816637861</td>\n",
       "      <td>2007-09-25 00:16:00</td>\n",
       "      <td>203</td>\n",
       "      <td>173</td>\n",
       "      <td>1.0</td>\n",
       "    </tr>\n",
       "    <tr>\n",
       "      <th>45726</th>\n",
       "      <td>C07817280467</td>\n",
       "      <td>C07816637861</td>\n",
       "      <td>2007-09-25 00:21:00</td>\n",
       "      <td>203</td>\n",
       "      <td>173</td>\n",
       "      <td>1.0</td>\n",
       "    </tr>\n",
       "    <tr>\n",
       "      <th>45727</th>\n",
       "      <td>C07817280467</td>\n",
       "      <td>C07816637861</td>\n",
       "      <td>2007-09-25 00:26:00</td>\n",
       "      <td>203</td>\n",
       "      <td>173</td>\n",
       "      <td>1.0</td>\n",
       "    </tr>\n",
       "    <tr>\n",
       "      <th>45728</th>\n",
       "      <td>C07817280467</td>\n",
       "      <td>C07816637861</td>\n",
       "      <td>2007-09-25 13:14:00</td>\n",
       "      <td>203</td>\n",
       "      <td>173</td>\n",
       "      <td>1.0</td>\n",
       "    </tr>\n",
       "  </tbody>\n",
       "</table>\n",
       "<p>1413 rows × 6 columns</p>\n",
       "</div>"
      ],
      "text/plain": [
       "                ego         alter                time  uclock  aclock   rm\n",
       "44316  C07817280467  C07816637861 2007-04-04 19:31:00      30       0  1.0\n",
       "44317  C07817280467  C07816637861 2007-04-17 14:17:00      43      13  1.0\n",
       "44318  C07817280467  C07816637861 2007-04-17 14:17:00      43      13  1.0\n",
       "44319  C07817280467  C07816637861 2007-04-17 16:58:00      43      13  1.0\n",
       "44320  C07817280467  C07816637861 2007-04-17 17:13:00      43      13  1.0\n",
       "...             ...           ...                 ...     ...     ...  ...\n",
       "45724  C07817280467  C07816637861 2007-09-24 17:57:00     203     173  1.0\n",
       "45725  C07817280467  C07816637861 2007-09-25 00:16:00     203     173  1.0\n",
       "45726  C07817280467  C07816637861 2007-09-25 00:21:00     203     173  1.0\n",
       "45727  C07817280467  C07816637861 2007-09-25 00:26:00     203     173  1.0\n",
       "45728  C07817280467  C07816637861 2007-09-25 13:14:00     203     173  1.0\n",
       "\n",
       "[1413 rows x 6 columns]"
      ]
     },
     "execution_count": 12,
     "metadata": {},
     "output_type": "execute_result"
    }
   ],
   "source": [
    "df = filtered['uk'].loc[(filtered['uk']['ego'] == egos[0]) & (filtered['uk']['alter'] == alters[0])]\n",
    "df"
   ]
  },
  {
   "cell_type": "code",
   "execution_count": 13,
   "id": "specific-pursuit",
   "metadata": {
    "execution": {
     "iopub.execute_input": "2021-08-03T04:49:24.148084Z",
     "iopub.status.busy": "2021-08-03T04:49:24.147452Z",
     "iopub.status.idle": "2021-08-03T04:49:24.172913Z",
     "shell.execute_reply": "2021-08-03T04:49:24.172515Z",
     "shell.execute_reply.started": "2021-08-03T04:49:24.147987Z"
    },
    "tags": []
   },
   "outputs": [
    {
     "name": "stderr",
     "output_type": "stream",
     "text": [
      "<ipython-input-13-7bb031b5eaac>:1: SettingWithCopyWarning: \n",
      "A value is trying to be set on a copy of a slice from a DataFrame.\n",
      "Try using .loc[row_indexer,col_indexer] = value instead\n",
      "\n",
      "See the caveats in the documentation: https://pandas.pydata.org/pandas-docs/stable/user_guide/indexing.html#returning-a-view-versus-a-copy\n",
      "  df['ie'] = df['aclock'].diff()\n"
     ]
    },
    {
     "data": {
      "text/html": [
       "<div>\n",
       "<style scoped>\n",
       "    .dataframe tbody tr th:only-of-type {\n",
       "        vertical-align: middle;\n",
       "    }\n",
       "\n",
       "    .dataframe tbody tr th {\n",
       "        vertical-align: top;\n",
       "    }\n",
       "\n",
       "    .dataframe thead th {\n",
       "        text-align: right;\n",
       "    }\n",
       "</style>\n",
       "<table border=\"1\" class=\"dataframe\">\n",
       "  <thead>\n",
       "    <tr style=\"text-align: right;\">\n",
       "      <th></th>\n",
       "      <th>ego</th>\n",
       "      <th>alter</th>\n",
       "      <th>time</th>\n",
       "      <th>uclock</th>\n",
       "      <th>aclock</th>\n",
       "      <th>rm</th>\n",
       "      <th>ie</th>\n",
       "    </tr>\n",
       "  </thead>\n",
       "  <tbody>\n",
       "    <tr>\n",
       "      <th>44316</th>\n",
       "      <td>C07817280467</td>\n",
       "      <td>C07816637861</td>\n",
       "      <td>2007-04-04 19:31:00</td>\n",
       "      <td>30</td>\n",
       "      <td>0</td>\n",
       "      <td>1.0</td>\n",
       "      <td>NaN</td>\n",
       "    </tr>\n",
       "    <tr>\n",
       "      <th>44317</th>\n",
       "      <td>C07817280467</td>\n",
       "      <td>C07816637861</td>\n",
       "      <td>2007-04-17 14:17:00</td>\n",
       "      <td>43</td>\n",
       "      <td>13</td>\n",
       "      <td>1.0</td>\n",
       "      <td>13.0</td>\n",
       "    </tr>\n",
       "    <tr>\n",
       "      <th>44318</th>\n",
       "      <td>C07817280467</td>\n",
       "      <td>C07816637861</td>\n",
       "      <td>2007-04-17 14:17:00</td>\n",
       "      <td>43</td>\n",
       "      <td>13</td>\n",
       "      <td>1.0</td>\n",
       "      <td>0.0</td>\n",
       "    </tr>\n",
       "    <tr>\n",
       "      <th>44319</th>\n",
       "      <td>C07817280467</td>\n",
       "      <td>C07816637861</td>\n",
       "      <td>2007-04-17 16:58:00</td>\n",
       "      <td>43</td>\n",
       "      <td>13</td>\n",
       "      <td>1.0</td>\n",
       "      <td>0.0</td>\n",
       "    </tr>\n",
       "    <tr>\n",
       "      <th>44320</th>\n",
       "      <td>C07817280467</td>\n",
       "      <td>C07816637861</td>\n",
       "      <td>2007-04-17 17:13:00</td>\n",
       "      <td>43</td>\n",
       "      <td>13</td>\n",
       "      <td>1.0</td>\n",
       "      <td>0.0</td>\n",
       "    </tr>\n",
       "    <tr>\n",
       "      <th>...</th>\n",
       "      <td>...</td>\n",
       "      <td>...</td>\n",
       "      <td>...</td>\n",
       "      <td>...</td>\n",
       "      <td>...</td>\n",
       "      <td>...</td>\n",
       "      <td>...</td>\n",
       "    </tr>\n",
       "    <tr>\n",
       "      <th>45724</th>\n",
       "      <td>C07817280467</td>\n",
       "      <td>C07816637861</td>\n",
       "      <td>2007-09-24 17:57:00</td>\n",
       "      <td>203</td>\n",
       "      <td>173</td>\n",
       "      <td>1.0</td>\n",
       "      <td>0.0</td>\n",
       "    </tr>\n",
       "    <tr>\n",
       "      <th>45725</th>\n",
       "      <td>C07817280467</td>\n",
       "      <td>C07816637861</td>\n",
       "      <td>2007-09-25 00:16:00</td>\n",
       "      <td>203</td>\n",
       "      <td>173</td>\n",
       "      <td>1.0</td>\n",
       "      <td>0.0</td>\n",
       "    </tr>\n",
       "    <tr>\n",
       "      <th>45726</th>\n",
       "      <td>C07817280467</td>\n",
       "      <td>C07816637861</td>\n",
       "      <td>2007-09-25 00:21:00</td>\n",
       "      <td>203</td>\n",
       "      <td>173</td>\n",
       "      <td>1.0</td>\n",
       "      <td>0.0</td>\n",
       "    </tr>\n",
       "    <tr>\n",
       "      <th>45727</th>\n",
       "      <td>C07817280467</td>\n",
       "      <td>C07816637861</td>\n",
       "      <td>2007-09-25 00:26:00</td>\n",
       "      <td>203</td>\n",
       "      <td>173</td>\n",
       "      <td>1.0</td>\n",
       "      <td>0.0</td>\n",
       "    </tr>\n",
       "    <tr>\n",
       "      <th>45728</th>\n",
       "      <td>C07817280467</td>\n",
       "      <td>C07816637861</td>\n",
       "      <td>2007-09-25 13:14:00</td>\n",
       "      <td>203</td>\n",
       "      <td>173</td>\n",
       "      <td>1.0</td>\n",
       "      <td>0.0</td>\n",
       "    </tr>\n",
       "  </tbody>\n",
       "</table>\n",
       "<p>1413 rows × 7 columns</p>\n",
       "</div>"
      ],
      "text/plain": [
       "                ego         alter                time  uclock  aclock   rm  \\\n",
       "44316  C07817280467  C07816637861 2007-04-04 19:31:00      30       0  1.0   \n",
       "44317  C07817280467  C07816637861 2007-04-17 14:17:00      43      13  1.0   \n",
       "44318  C07817280467  C07816637861 2007-04-17 14:17:00      43      13  1.0   \n",
       "44319  C07817280467  C07816637861 2007-04-17 16:58:00      43      13  1.0   \n",
       "44320  C07817280467  C07816637861 2007-04-17 17:13:00      43      13  1.0   \n",
       "...             ...           ...                 ...     ...     ...  ...   \n",
       "45724  C07817280467  C07816637861 2007-09-24 17:57:00     203     173  1.0   \n",
       "45725  C07817280467  C07816637861 2007-09-25 00:16:00     203     173  1.0   \n",
       "45726  C07817280467  C07816637861 2007-09-25 00:21:00     203     173  1.0   \n",
       "45727  C07817280467  C07816637861 2007-09-25 00:26:00     203     173  1.0   \n",
       "45728  C07817280467  C07816637861 2007-09-25 13:14:00     203     173  1.0   \n",
       "\n",
       "         ie  \n",
       "44316   NaN  \n",
       "44317  13.0  \n",
       "44318   0.0  \n",
       "44319   0.0  \n",
       "44320   0.0  \n",
       "...     ...  \n",
       "45724   0.0  \n",
       "45725   0.0  \n",
       "45726   0.0  \n",
       "45727   0.0  \n",
       "45728   0.0  \n",
       "\n",
       "[1413 rows x 7 columns]"
      ]
     },
     "execution_count": 13,
     "metadata": {},
     "output_type": "execute_result"
    }
   ],
   "source": [
    "df['ie'] = df['aclock'].diff()\n",
    "df"
   ]
  },
  {
   "cell_type": "code",
   "execution_count": 15,
   "id": "induced-lodging",
   "metadata": {
    "execution": {
     "iopub.execute_input": "2021-08-03T05:21:17.849716Z",
     "iopub.status.busy": "2021-08-03T05:21:17.849589Z",
     "iopub.status.idle": "2021-08-03T05:21:17.971911Z",
     "shell.execute_reply": "2021-08-03T05:21:17.971492Z",
     "shell.execute_reply.started": "2021-08-03T05:21:17.849701Z"
    },
    "tags": []
   },
   "outputs": [
    {
     "name": "stdout",
     "output_type": "stream",
     "text": [
      "0.12252124645892351 0.6741923215046159\n"
     ]
    },
    {
     "data": {
      "text/plain": [
       "(array([1.402e+03, 3.000e+00, 1.000e+00, 2.000e+00, 2.000e+00, 0.000e+00,\n",
       "        0.000e+00, 0.000e+00, 1.000e+00, 1.000e+00]),\n",
       " array([ 0. ,  1.5,  3. ,  4.5,  6. ,  7.5,  9. , 10.5, 12. , 13.5, 15. ]),\n",
       " <BarContainer object of 10 artists>)"
      ]
     },
     "execution_count": 15,
     "metadata": {},
     "output_type": "execute_result"
    },
    {
     "data": {
      "image/png": "[encoded data removed]",
      "text/plain": [
       "<Figure size 1440x720 with 1 Axes>"
      ]
     },
     "metadata": {
      "needs_background": "light"
     },
     "output_type": "display_data"
    }
   ],
   "source": [
    "print(np.mean(list(df['ie'])[1:]), np.std(list(df['ie'])[1:]))\n",
    "plt.hist(df['ie'])"
   ]
  },
  {
   "cell_type": "code",
   "execution_count": 16,
   "id": "hearing-sewing",
   "metadata": {
    "execution": {
     "iopub.execute_input": "2021-08-03T05:22:25.543886Z",
     "iopub.status.busy": "2021-08-03T05:22:25.543560Z",
     "iopub.status.idle": "2021-08-03T05:22:25.668809Z",
     "shell.execute_reply": "2021-08-03T05:22:25.668416Z",
     "shell.execute_reply.started": "2021-08-03T05:22:25.543849Z"
    },
    "tags": []
   },
   "outputs": [
    {
     "name": "stdout",
     "output_type": "stream",
     "text": [
      "0.13311148086522462 0.9969596723225941\n"
     ]
    },
    {
     "name": "stderr",
     "output_type": "stream",
     "text": [
      "<ipython-input-16-850cd0b4adae>:2: SettingWithCopyWarning: \n",
      "A value is trying to be set on a copy of a slice from a DataFrame.\n",
      "Try using .loc[row_indexer,col_indexer] = value instead\n",
      "\n",
      "See the caveats in the documentation: https://pandas.pydata.org/pandas-docs/stable/user_guide/indexing.html#returning-a-view-versus-a-copy\n",
      "  df['ie'] = df['aclock'].diff()\n"
     ]
    },
    {
     "data": {
      "text/plain": [
       "(array([1.2e+03, 0.0e+00, 1.0e+00, 0.0e+00, 0.0e+00, 0.0e+00, 0.0e+00,\n",
       "        0.0e+00, 0.0e+00, 1.0e+00]),\n",
       " array([ 0. ,  3.2,  6.4,  9.6, 12.8, 16. , 19.2, 22.4, 25.6, 28.8, 32. ]),\n",
       " <BarContainer object of 10 artists>)"
      ]
     },
     "execution_count": 16,
     "metadata": {},
     "output_type": "execute_result"
    },
    {
     "data": {
      "image/png": "[encoded data removed]",
      "text/plain": [
       "<Figure size 1440x720 with 1 Axes>"
      ]
     },
     "metadata": {
      "needs_background": "light"
     },
     "output_type": "display_data"
    }
   ],
   "source": [
    "df = filtered['uk'].loc[(filtered['uk']['ego'] == egos[1]) & (filtered['uk']['alter'] == alters[1])]\n",
    "df['ie'] = df['aclock'].diff()\n",
    "print(np.mean(list(df['ie'])[1:]), np.std(list(df['ie'])[1:]))\n",
    "plt.hist(df['ie'])"
   ]
  }
 ],
 "metadata": {
  "kernelspec": {
   "display_name": "Python 3",
   "language": "python",
   "name": "python3"
  },
  "language_info": {
   "codemirror_mode": {
    "name": "ipython",
    "version": 3
   },
   "file_extension": ".py",
   "mimetype": "text/x-python",
   "name": "python",
   "nbconvert_exporter": "python",
   "pygments_lexer": "ipython3",
   "version": "3.9.6"
  }
 },
 "nbformat": 4,
 "nbformat_minor": 5
}
